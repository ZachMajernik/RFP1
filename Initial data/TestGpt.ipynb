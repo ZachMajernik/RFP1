{
 "cells": [
  {
   "cell_type": "code",
   "execution_count": 29,
   "id": "0a3fbe6e",
   "metadata": {},
   "outputs": [
    {
     "name": "stdout",
     "output_type": "stream",
     "text": [
      "            age    income      kids  cluster\n",
      "0      0.034889  2.157419  0.887310        0\n",
      "1      1.185430  1.601801 -1.145928        1\n",
      "2      0.782741  0.212756  0.887310        2\n",
      "3      0.610160 -0.574370  2.242802        3\n",
      "4      0.207470 -0.666973  2.242802        3\n",
      "...         ...       ...       ...      ...\n",
      "14820 -0.540382 -0.528068 -1.145928       19\n",
      "14821  0.380051  0.305359  1.565056       16\n",
      "14822 -0.310274  0.351660  0.209564        7\n",
      "14823  1.645647 -0.713274 -1.145928       19\n",
      "14824  0.437578  0.768374  1.565056       17\n",
      "\n",
      "[14825 rows x 4 columns]\n"
     ]
    }
   ],
   "source": [
    "import pandas as pd\n",
    "from sklearn.cluster import DBSCAN\n",
    "from sklearn.preprocessing import StandardScaler\n",
    "\n",
    "\n",
    "df = pd.read_csv('customer_profiles.csv')\n",
    "\n",
    "# Convert categorical variables to numerical form\n",
    "df = pd.get_dummies(df, columns=['gender', 'ever_married'])\n",
    "\n",
    "# Standardize numerical variables\n",
    "scaler = StandardScaler()\n",
    "df[['age', 'income', 'kids']] = scaler.fit_transform(df[['age', 'income', 'kids']])\n",
    "\n",
    "# Combine relevant columns into feature matrix\n",
    "X = df[['age', 'income', 'kids', 'gender_F', 'gender_M', 'ever_married_No', 'ever_married_Yes']]\n",
    "\n",
    "# Apply DBSCAN\n",
    "dbscan = DBSCAN(eps=0.5, min_samples=2)\n",
    "df['cluster'] = dbscan.fit_predict(X)\n",
    "\n",
    "# Display the clusters\n",
    "print(df[['age', 'income', 'kids', 'cluster']])"
   ]
  },
  {
   "cell_type": "code",
   "execution_count": 30,
   "id": "5851b659",
   "metadata": {},
   "outputs": [
    {
     "data": {
      "text/plain": [
       "array([ 0,  1,  2,  3,  4,  5,  6,  7,  8,  9, 10, 11, 12, 13, 14, 15, 16,\n",
       "       17, 18, 19, 20, 21, 22, 23, 24, -1, 25, 26, 27, 28, 29, 30, 31, 32,\n",
       "       33, 34, 35, 36, 37, 38, 39, 40, 41, 42, 43, 44, 45, 46, 47, 48, 49,\n",
       "       50, 51, 52, 53, 54, 55, 56, 57, 58, 59, 60, 61, 62, 63, 64, 65, 66,\n",
       "       67, 68, 69, 70, 71, 72, 73, 74, 75, 76], dtype=int64)"
      ]
     },
     "execution_count": 30,
     "metadata": {},
     "output_type": "execute_result"
    }
   ],
   "source": [
    "df[\"cluster\"].unique()"
   ]
  },
  {
   "cell_type": "code",
   "execution_count": 31,
   "id": "c07ab4b4",
   "metadata": {},
   "outputs": [
    {
     "name": "stdout",
     "output_type": "stream",
     "text": [
      "442 970 646 230 420 611 1385 1120 71\n"
     ]
    }
   ],
   "source": [
    "c0 = 0\n",
    "c1 = 0\n",
    "c2 = 0\n",
    "c3 = 0\n",
    "c4 = 0\n",
    "c5 = 0\n",
    "c6 = 0\n",
    "c7 = 0\n",
    "c_1 = 0\n",
    "for i in range(len(df[\"cluster\"])):\n",
    "    if df[\"cluster\"][i] == 0:\n",
    "        c0 += 1\n",
    "    elif df[\"cluster\"][i] == 1:\n",
    "        c1 += 1\n",
    "    elif df[\"cluster\"][i] == 2:\n",
    "        c2 += 1\n",
    "    elif df[\"cluster\"][i] == 3:\n",
    "        c3 += 1\n",
    "    elif df[\"cluster\"][i] == 4:\n",
    "        c4 += 1\n",
    "    elif df[\"cluster\"][i] == 5:\n",
    "        c5 += 1\n",
    "    elif df[\"cluster\"][i] == 6:\n",
    "        c6 += 1\n",
    "    elif df[\"cluster\"][i] == 7:\n",
    "        c7 += 1\n",
    "    elif df[\"cluster\"][i] == -1:\n",
    "        c_1 += 1\n",
    "print(c0, c1, c2, c3, c4, c5, c6, c7, c_1)"
   ]
  },
  {
   "cell_type": "code",
   "execution_count": 61,
   "id": "66a2b71f",
   "metadata": {},
   "outputs": [
    {
     "name": "stdout",
     "output_type": "stream",
     "text": [
      "2    4454\n",
      "3    4030\n",
      "1    3201\n",
      "0    2928\n",
      "4     110\n",
      "Name: cluster, dtype: int64\n"
     ]
    }
   ],
   "source": [
    "# Apply DBSCAN\n",
    "dbscan = DBSCAN(eps=0.9, min_samples=0)\n",
    "df['cluster'] = dbscan.fit_predict(X)\n",
    "\n",
    "# Count the number of points in each cluster\n",
    "cluster_counts = df['cluster'].value_counts()\n",
    "\n",
    "# Sort the clusters by size and get the top 3 largest clusters\n",
    "top_3_clusters = cluster_counts.nlargest(5)\n",
    "\n",
    "print(top_3_clusters)\n"
   ]
  },
  {
   "cell_type": "code",
   "execution_count": null,
   "id": "ae3f3200",
   "metadata": {},
   "outputs": [],
   "source": []
  }
 ],
 "metadata": {
  "kernelspec": {
   "display_name": "Python 3 (ipykernel)",
   "language": "python",
   "name": "python3"
  },
  "language_info": {
   "codemirror_mode": {
    "name": "ipython",
    "version": 3
   },
   "file_extension": ".py",
   "mimetype": "text/x-python",
   "name": "python",
   "nbconvert_exporter": "python",
   "pygments_lexer": "ipython3",
   "version": "3.9.13"
  }
 },
 "nbformat": 4,
 "nbformat_minor": 5
}
