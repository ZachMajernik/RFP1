{
 "cells": [
  {
   "cell_type": "code",
   "execution_count": 1,
   "id": "ddd708b0",
   "metadata": {},
   "outputs": [],
   "source": [
    "import pandas as pd\n",
    "import seaborn as sns"
   ]
  },
  {
   "cell_type": "code",
   "execution_count": 2,
   "id": "b1facb97",
   "metadata": {},
   "outputs": [],
   "source": [
    "df1 = pd.read_csv('ad_events.csv')\n",
    "df2 = pd.read_csv('ad_details.csv')\n",
    "df3 = pd.read_csv('customer_profiles.csv')"
   ]
  },
  {
   "cell_type": "code",
   "execution_count": 3,
   "id": "1beed60b",
   "metadata": {},
   "outputs": [],
   "source": [
    "df2.rename(columns={'ad id': 'event_info'}, inplace=True)"
   ]
  },
  {
   "cell_type": "code",
   "execution_count": 4,
   "id": "9d00d42b",
   "metadata": {},
   "outputs": [
    {
     "name": "stdout",
     "output_type": "stream",
     "text": [
      "<class 'pandas.core.frame.DataFrame'>\n",
      "RangeIndex: 10 entries, 0 to 9\n",
      "Data columns (total 6 columns):\n",
      " #   Column           Non-Null Count  Dtype \n",
      "---  ------           --------------  ----- \n",
      " 0   reward           10 non-null     int64 \n",
      " 1   channels         10 non-null     object\n",
      " 2   required_amount  10 non-null     int64 \n",
      " 3   duration (days)  10 non-null     int64 \n",
      " 4   offer_type       10 non-null     object\n",
      " 5   event_info       10 non-null     object\n",
      "dtypes: int64(3), object(3)\n",
      "memory usage: 608.0+ bytes\n"
     ]
    }
   ],
   "source": [
    "df2.info()"
   ]
  },
  {
   "cell_type": "code",
   "execution_count": 5,
   "id": "c6cf7ebb",
   "metadata": {},
   "outputs": [
    {
     "data": {
      "text/html": [
       "<div>\n",
       "<style scoped>\n",
       "    .dataframe tbody tr th:only-of-type {\n",
       "        vertical-align: middle;\n",
       "    }\n",
       "\n",
       "    .dataframe tbody tr th {\n",
       "        vertical-align: top;\n",
       "    }\n",
       "\n",
       "    .dataframe thead th {\n",
       "        text-align: right;\n",
       "    }\n",
       "</style>\n",
       "<table border=\"1\" class=\"dataframe\">\n",
       "  <thead>\n",
       "    <tr style=\"text-align: right;\">\n",
       "      <th></th>\n",
       "      <th>reward</th>\n",
       "      <th>channels</th>\n",
       "      <th>required_amount</th>\n",
       "      <th>duration (days)</th>\n",
       "      <th>offer_type</th>\n",
       "      <th>event_info</th>\n",
       "    </tr>\n",
       "  </thead>\n",
       "  <tbody>\n",
       "    <tr>\n",
       "      <th>0</th>\n",
       "      <td>10</td>\n",
       "      <td>['email', 'mobile', 'social']</td>\n",
       "      <td>10</td>\n",
       "      <td>7</td>\n",
       "      <td>bogo</td>\n",
       "      <td>ae264e3637204a6fb9bb56bc8210ddfd</td>\n",
       "    </tr>\n",
       "    <tr>\n",
       "      <th>1</th>\n",
       "      <td>10</td>\n",
       "      <td>['web', 'email', 'mobile', 'social']</td>\n",
       "      <td>10</td>\n",
       "      <td>5</td>\n",
       "      <td>bogo</td>\n",
       "      <td>4d5c57ea9a6940dd891ad53e9dbe8da0</td>\n",
       "    </tr>\n",
       "    <tr>\n",
       "      <th>2</th>\n",
       "      <td>0</td>\n",
       "      <td>['web', 'email', 'mobile']</td>\n",
       "      <td>0</td>\n",
       "      <td>4</td>\n",
       "      <td>informational</td>\n",
       "      <td>3f207df678b143eea3cee63160fa8bed</td>\n",
       "    </tr>\n",
       "    <tr>\n",
       "      <th>3</th>\n",
       "      <td>5</td>\n",
       "      <td>['web', 'email', 'mobile']</td>\n",
       "      <td>5</td>\n",
       "      <td>7</td>\n",
       "      <td>bogo</td>\n",
       "      <td>9b98b8c7a33c4b65b9aebfe6a799e6d9</td>\n",
       "    </tr>\n",
       "    <tr>\n",
       "      <th>4</th>\n",
       "      <td>5</td>\n",
       "      <td>['web', 'email']</td>\n",
       "      <td>20</td>\n",
       "      <td>10</td>\n",
       "      <td>discount</td>\n",
       "      <td>0b1e1539f2cc45b7b9fa7c272da2e1d7</td>\n",
       "    </tr>\n",
       "  </tbody>\n",
       "</table>\n",
       "</div>"
      ],
      "text/plain": [
       "   reward                              channels  required_amount  \\\n",
       "0      10         ['email', 'mobile', 'social']               10   \n",
       "1      10  ['web', 'email', 'mobile', 'social']               10   \n",
       "2       0            ['web', 'email', 'mobile']                0   \n",
       "3       5            ['web', 'email', 'mobile']                5   \n",
       "4       5                      ['web', 'email']               20   \n",
       "\n",
       "   duration (days)     offer_type                        event_info  \n",
       "0                7           bogo  ae264e3637204a6fb9bb56bc8210ddfd  \n",
       "1                5           bogo  4d5c57ea9a6940dd891ad53e9dbe8da0  \n",
       "2                4  informational  3f207df678b143eea3cee63160fa8bed  \n",
       "3                7           bogo  9b98b8c7a33c4b65b9aebfe6a799e6d9  \n",
       "4               10       discount  0b1e1539f2cc45b7b9fa7c272da2e1d7  "
      ]
     },
     "execution_count": 5,
     "metadata": {},
     "output_type": "execute_result"
    }
   ],
   "source": [
    "df2.head()"
   ]
  },
  {
   "cell_type": "code",
   "execution_count": 6,
   "id": "b39bb233",
   "metadata": {},
   "outputs": [],
   "source": [
    "df2['event_info'] = df2['event_info'].apply(lambda x: \"{'offer id': '\" + x + \"'}\")"
   ]
  },
  {
   "cell_type": "code",
   "execution_count": 7,
   "id": "5f946779",
   "metadata": {},
   "outputs": [
    {
     "data": {
      "text/html": [
       "<div>\n",
       "<style scoped>\n",
       "    .dataframe tbody tr th:only-of-type {\n",
       "        vertical-align: middle;\n",
       "    }\n",
       "\n",
       "    .dataframe tbody tr th {\n",
       "        vertical-align: top;\n",
       "    }\n",
       "\n",
       "    .dataframe thead th {\n",
       "        text-align: right;\n",
       "    }\n",
       "</style>\n",
       "<table border=\"1\" class=\"dataframe\">\n",
       "  <thead>\n",
       "    <tr style=\"text-align: right;\">\n",
       "      <th></th>\n",
       "      <th>reward</th>\n",
       "      <th>channels</th>\n",
       "      <th>required_amount</th>\n",
       "      <th>duration (days)</th>\n",
       "      <th>offer_type</th>\n",
       "      <th>event_info</th>\n",
       "    </tr>\n",
       "  </thead>\n",
       "  <tbody>\n",
       "    <tr>\n",
       "      <th>0</th>\n",
       "      <td>10</td>\n",
       "      <td>['email', 'mobile', 'social']</td>\n",
       "      <td>10</td>\n",
       "      <td>7</td>\n",
       "      <td>bogo</td>\n",
       "      <td>{'offer id': 'ae264e3637204a6fb9bb56bc8210ddfd'}</td>\n",
       "    </tr>\n",
       "    <tr>\n",
       "      <th>1</th>\n",
       "      <td>10</td>\n",
       "      <td>['web', 'email', 'mobile', 'social']</td>\n",
       "      <td>10</td>\n",
       "      <td>5</td>\n",
       "      <td>bogo</td>\n",
       "      <td>{'offer id': '4d5c57ea9a6940dd891ad53e9dbe8da0'}</td>\n",
       "    </tr>\n",
       "    <tr>\n",
       "      <th>2</th>\n",
       "      <td>0</td>\n",
       "      <td>['web', 'email', 'mobile']</td>\n",
       "      <td>0</td>\n",
       "      <td>4</td>\n",
       "      <td>informational</td>\n",
       "      <td>{'offer id': '3f207df678b143eea3cee63160fa8bed'}</td>\n",
       "    </tr>\n",
       "    <tr>\n",
       "      <th>3</th>\n",
       "      <td>5</td>\n",
       "      <td>['web', 'email', 'mobile']</td>\n",
       "      <td>5</td>\n",
       "      <td>7</td>\n",
       "      <td>bogo</td>\n",
       "      <td>{'offer id': '9b98b8c7a33c4b65b9aebfe6a799e6d9'}</td>\n",
       "    </tr>\n",
       "    <tr>\n",
       "      <th>4</th>\n",
       "      <td>5</td>\n",
       "      <td>['web', 'email']</td>\n",
       "      <td>20</td>\n",
       "      <td>10</td>\n",
       "      <td>discount</td>\n",
       "      <td>{'offer id': '0b1e1539f2cc45b7b9fa7c272da2e1d7'}</td>\n",
       "    </tr>\n",
       "  </tbody>\n",
       "</table>\n",
       "</div>"
      ],
      "text/plain": [
       "   reward                              channels  required_amount  \\\n",
       "0      10         ['email', 'mobile', 'social']               10   \n",
       "1      10  ['web', 'email', 'mobile', 'social']               10   \n",
       "2       0            ['web', 'email', 'mobile']                0   \n",
       "3       5            ['web', 'email', 'mobile']                5   \n",
       "4       5                      ['web', 'email']               20   \n",
       "\n",
       "   duration (days)     offer_type  \\\n",
       "0                7           bogo   \n",
       "1                5           bogo   \n",
       "2                4  informational   \n",
       "3                7           bogo   \n",
       "4               10       discount   \n",
       "\n",
       "                                         event_info  \n",
       "0  {'offer id': 'ae264e3637204a6fb9bb56bc8210ddfd'}  \n",
       "1  {'offer id': '4d5c57ea9a6940dd891ad53e9dbe8da0'}  \n",
       "2  {'offer id': '3f207df678b143eea3cee63160fa8bed'}  \n",
       "3  {'offer id': '9b98b8c7a33c4b65b9aebfe6a799e6d9'}  \n",
       "4  {'offer id': '0b1e1539f2cc45b7b9fa7c272da2e1d7'}  "
      ]
     },
     "execution_count": 7,
     "metadata": {},
     "output_type": "execute_result"
    }
   ],
   "source": [
    "df2.head()"
   ]
  },
  {
   "cell_type": "code",
   "execution_count": 8,
   "id": "8e046d8e",
   "metadata": {},
   "outputs": [
    {
     "data": {
      "text/html": [
       "<div>\n",
       "<style scoped>\n",
       "    .dataframe tbody tr th:only-of-type {\n",
       "        vertical-align: middle;\n",
       "    }\n",
       "\n",
       "    .dataframe tbody tr th {\n",
       "        vertical-align: top;\n",
       "    }\n",
       "\n",
       "    .dataframe thead th {\n",
       "        text-align: right;\n",
       "    }\n",
       "</style>\n",
       "<table border=\"1\" class=\"dataframe\">\n",
       "  <thead>\n",
       "    <tr style=\"text-align: right;\">\n",
       "      <th></th>\n",
       "      <th>customer</th>\n",
       "      <th>event</th>\n",
       "      <th>event_info</th>\n",
       "      <th>time</th>\n",
       "    </tr>\n",
       "  </thead>\n",
       "  <tbody>\n",
       "    <tr>\n",
       "      <th>0</th>\n",
       "      <td>78afa995795e4d85b5d9ceeca43f5fef</td>\n",
       "      <td>offer received</td>\n",
       "      <td>{'offer id': '9b98b8c7a33c4b65b9aebfe6a799e6d9'}</td>\n",
       "      <td>0</td>\n",
       "    </tr>\n",
       "    <tr>\n",
       "      <th>1</th>\n",
       "      <td>a03223e636434f42ac4c3df47e8bac43</td>\n",
       "      <td>offer received</td>\n",
       "      <td>{'offer id': '0b1e1539f2cc45b7b9fa7c272da2e1d7'}</td>\n",
       "      <td>0</td>\n",
       "    </tr>\n",
       "    <tr>\n",
       "      <th>2</th>\n",
       "      <td>e2127556f4f64592b11af22de27a7932</td>\n",
       "      <td>offer received</td>\n",
       "      <td>{'offer id': '2906b810c7d4411798c6938adc9daaa5'}</td>\n",
       "      <td>0</td>\n",
       "    </tr>\n",
       "    <tr>\n",
       "      <th>3</th>\n",
       "      <td>8ec6ce2a7e7949b1bf142def7d0e0586</td>\n",
       "      <td>offer received</td>\n",
       "      <td>{'offer id': 'fafdcd668e3743c1bb461111dcafc2a4'}</td>\n",
       "      <td>0</td>\n",
       "    </tr>\n",
       "    <tr>\n",
       "      <th>4</th>\n",
       "      <td>68617ca6246f4fbc85e91a2a49552598</td>\n",
       "      <td>offer received</td>\n",
       "      <td>{'offer id': '4d5c57ea9a6940dd891ad53e9dbe8da0'}</td>\n",
       "      <td>0</td>\n",
       "    </tr>\n",
       "  </tbody>\n",
       "</table>\n",
       "</div>"
      ],
      "text/plain": [
       "                           customer           event  \\\n",
       "0  78afa995795e4d85b5d9ceeca43f5fef  offer received   \n",
       "1  a03223e636434f42ac4c3df47e8bac43  offer received   \n",
       "2  e2127556f4f64592b11af22de27a7932  offer received   \n",
       "3  8ec6ce2a7e7949b1bf142def7d0e0586  offer received   \n",
       "4  68617ca6246f4fbc85e91a2a49552598  offer received   \n",
       "\n",
       "                                         event_info  time  \n",
       "0  {'offer id': '9b98b8c7a33c4b65b9aebfe6a799e6d9'}     0  \n",
       "1  {'offer id': '0b1e1539f2cc45b7b9fa7c272da2e1d7'}     0  \n",
       "2  {'offer id': '2906b810c7d4411798c6938adc9daaa5'}     0  \n",
       "3  {'offer id': 'fafdcd668e3743c1bb461111dcafc2a4'}     0  \n",
       "4  {'offer id': '4d5c57ea9a6940dd891ad53e9dbe8da0'}     0  "
      ]
     },
     "execution_count": 8,
     "metadata": {},
     "output_type": "execute_result"
    }
   ],
   "source": [
    "df1.head()"
   ]
  },
  {
   "cell_type": "code",
   "execution_count": 9,
   "id": "e571ab7b",
   "metadata": {},
   "outputs": [],
   "source": [
    "df4 = pd.merge(df1, df2, on=\"event_info\")"
   ]
  },
  {
   "cell_type": "code",
   "execution_count": 10,
   "id": "319e2494",
   "metadata": {},
   "outputs": [
    {
     "name": "stdout",
     "output_type": "stream",
     "text": [
      "<class 'pandas.core.frame.DataFrame'>\n",
      "RangeIndex: 14825 entries, 0 to 14824\n",
      "Data columns (total 8 columns):\n",
      " #   Column                             Non-Null Count  Dtype  \n",
      "---  ------                             --------------  -----  \n",
      " 0   gender                             14825 non-null  object \n",
      " 1   age                                14825 non-null  int64  \n",
      " 2   id                                 14825 non-null  object \n",
      " 3   became_member_on (year month day)  14825 non-null  int64  \n",
      " 4   income                             14825 non-null  float64\n",
      " 5   ever_married                       14825 non-null  object \n",
      " 6   kids                               14825 non-null  int64  \n",
      " 7   home_state                         14825 non-null  object \n",
      "dtypes: float64(1), int64(3), object(4)\n",
      "memory usage: 926.7+ KB\n"
     ]
    }
   ],
   "source": [
    "df3.info()"
   ]
  },
  {
   "cell_type": "code",
   "execution_count": 11,
   "id": "26b1c659",
   "metadata": {},
   "outputs": [
    {
     "data": {
      "text/html": [
       "<div>\n",
       "<style scoped>\n",
       "    .dataframe tbody tr th:only-of-type {\n",
       "        vertical-align: middle;\n",
       "    }\n",
       "\n",
       "    .dataframe tbody tr th {\n",
       "        vertical-align: top;\n",
       "    }\n",
       "\n",
       "    .dataframe thead th {\n",
       "        text-align: right;\n",
       "    }\n",
       "</style>\n",
       "<table border=\"1\" class=\"dataframe\">\n",
       "  <thead>\n",
       "    <tr style=\"text-align: right;\">\n",
       "      <th></th>\n",
       "      <th>customer</th>\n",
       "      <th>event</th>\n",
       "      <th>event_info</th>\n",
       "      <th>time</th>\n",
       "      <th>reward</th>\n",
       "      <th>channels</th>\n",
       "      <th>required_amount</th>\n",
       "      <th>duration (days)</th>\n",
       "      <th>offer_type</th>\n",
       "    </tr>\n",
       "  </thead>\n",
       "  <tbody>\n",
       "    <tr>\n",
       "      <th>0</th>\n",
       "      <td>78afa995795e4d85b5d9ceeca43f5fef</td>\n",
       "      <td>offer received</td>\n",
       "      <td>{'offer id': '9b98b8c7a33c4b65b9aebfe6a799e6d9'}</td>\n",
       "      <td>0</td>\n",
       "      <td>5</td>\n",
       "      <td>['web', 'email', 'mobile']</td>\n",
       "      <td>5</td>\n",
       "      <td>7</td>\n",
       "      <td>bogo</td>\n",
       "    </tr>\n",
       "    <tr>\n",
       "      <th>1</th>\n",
       "      <td>ebe7ef46ea6f4963a7dd49f501b26779</td>\n",
       "      <td>offer received</td>\n",
       "      <td>{'offer id': '9b98b8c7a33c4b65b9aebfe6a799e6d9'}</td>\n",
       "      <td>0</td>\n",
       "      <td>5</td>\n",
       "      <td>['web', 'email', 'mobile']</td>\n",
       "      <td>5</td>\n",
       "      <td>7</td>\n",
       "      <td>bogo</td>\n",
       "    </tr>\n",
       "    <tr>\n",
       "      <th>2</th>\n",
       "      <td>f082d80f0aac47a99173ba8ef8fc1909</td>\n",
       "      <td>offer received</td>\n",
       "      <td>{'offer id': '9b98b8c7a33c4b65b9aebfe6a799e6d9'}</td>\n",
       "      <td>0</td>\n",
       "      <td>5</td>\n",
       "      <td>['web', 'email', 'mobile']</td>\n",
       "      <td>5</td>\n",
       "      <td>7</td>\n",
       "      <td>bogo</td>\n",
       "    </tr>\n",
       "    <tr>\n",
       "      <th>3</th>\n",
       "      <td>c0d210398dee4a0895b24444a5fcd1d2</td>\n",
       "      <td>offer received</td>\n",
       "      <td>{'offer id': '9b98b8c7a33c4b65b9aebfe6a799e6d9'}</td>\n",
       "      <td>0</td>\n",
       "      <td>5</td>\n",
       "      <td>['web', 'email', 'mobile']</td>\n",
       "      <td>5</td>\n",
       "      <td>7</td>\n",
       "      <td>bogo</td>\n",
       "    </tr>\n",
       "    <tr>\n",
       "      <th>4</th>\n",
       "      <td>57dd18ec5ddc46828afb81ec5977bef2</td>\n",
       "      <td>offer received</td>\n",
       "      <td>{'offer id': '9b98b8c7a33c4b65b9aebfe6a799e6d9'}</td>\n",
       "      <td>0</td>\n",
       "      <td>5</td>\n",
       "      <td>['web', 'email', 'mobile']</td>\n",
       "      <td>5</td>\n",
       "      <td>7</td>\n",
       "      <td>bogo</td>\n",
       "    </tr>\n",
       "  </tbody>\n",
       "</table>\n",
       "</div>"
      ],
      "text/plain": [
       "                           customer           event  \\\n",
       "0  78afa995795e4d85b5d9ceeca43f5fef  offer received   \n",
       "1  ebe7ef46ea6f4963a7dd49f501b26779  offer received   \n",
       "2  f082d80f0aac47a99173ba8ef8fc1909  offer received   \n",
       "3  c0d210398dee4a0895b24444a5fcd1d2  offer received   \n",
       "4  57dd18ec5ddc46828afb81ec5977bef2  offer received   \n",
       "\n",
       "                                         event_info  time  reward  \\\n",
       "0  {'offer id': '9b98b8c7a33c4b65b9aebfe6a799e6d9'}     0       5   \n",
       "1  {'offer id': '9b98b8c7a33c4b65b9aebfe6a799e6d9'}     0       5   \n",
       "2  {'offer id': '9b98b8c7a33c4b65b9aebfe6a799e6d9'}     0       5   \n",
       "3  {'offer id': '9b98b8c7a33c4b65b9aebfe6a799e6d9'}     0       5   \n",
       "4  {'offer id': '9b98b8c7a33c4b65b9aebfe6a799e6d9'}     0       5   \n",
       "\n",
       "                     channels  required_amount  duration (days) offer_type  \n",
       "0  ['web', 'email', 'mobile']                5                7       bogo  \n",
       "1  ['web', 'email', 'mobile']                5                7       bogo  \n",
       "2  ['web', 'email', 'mobile']                5                7       bogo  \n",
       "3  ['web', 'email', 'mobile']                5                7       bogo  \n",
       "4  ['web', 'email', 'mobile']                5                7       bogo  "
      ]
     },
     "execution_count": 11,
     "metadata": {},
     "output_type": "execute_result"
    }
   ],
   "source": [
    "df4.head()"
   ]
  },
  {
   "cell_type": "code",
   "execution_count": 12,
   "id": "a558073a",
   "metadata": {},
   "outputs": [
    {
     "data": {
      "text/html": [
       "<div>\n",
       "<style scoped>\n",
       "    .dataframe tbody tr th:only-of-type {\n",
       "        vertical-align: middle;\n",
       "    }\n",
       "\n",
       "    .dataframe tbody tr th {\n",
       "        vertical-align: top;\n",
       "    }\n",
       "\n",
       "    .dataframe thead th {\n",
       "        text-align: right;\n",
       "    }\n",
       "</style>\n",
       "<table border=\"1\" class=\"dataframe\">\n",
       "  <thead>\n",
       "    <tr style=\"text-align: right;\">\n",
       "      <th></th>\n",
       "      <th>gender</th>\n",
       "      <th>age</th>\n",
       "      <th>id</th>\n",
       "      <th>became_member_on (year month day)</th>\n",
       "      <th>income</th>\n",
       "      <th>ever_married</th>\n",
       "      <th>kids</th>\n",
       "      <th>home_state</th>\n",
       "    </tr>\n",
       "  </thead>\n",
       "  <tbody>\n",
       "    <tr>\n",
       "      <th>0</th>\n",
       "      <td>F</td>\n",
       "      <td>55</td>\n",
       "      <td>0610b486422d4921ae7d2bf64640c50b</td>\n",
       "      <td>20170715</td>\n",
       "      <td>112000.0</td>\n",
       "      <td>No</td>\n",
       "      <td>3</td>\n",
       "      <td>North Dakota</td>\n",
       "    </tr>\n",
       "    <tr>\n",
       "      <th>1</th>\n",
       "      <td>F</td>\n",
       "      <td>75</td>\n",
       "      <td>78afa995795e4d85b5d9ceeca43f5fef</td>\n",
       "      <td>20170509</td>\n",
       "      <td>100000.0</td>\n",
       "      <td>Yes</td>\n",
       "      <td>0</td>\n",
       "      <td>Florida</td>\n",
       "    </tr>\n",
       "    <tr>\n",
       "      <th>2</th>\n",
       "      <td>M</td>\n",
       "      <td>68</td>\n",
       "      <td>e2127556f4f64592b11af22de27a7932</td>\n",
       "      <td>20180426</td>\n",
       "      <td>70000.0</td>\n",
       "      <td>Yes</td>\n",
       "      <td>3</td>\n",
       "      <td>Florida</td>\n",
       "    </tr>\n",
       "    <tr>\n",
       "      <th>3</th>\n",
       "      <td>M</td>\n",
       "      <td>65</td>\n",
       "      <td>389bc3fa690240e798340f5a15918d5c</td>\n",
       "      <td>20180209</td>\n",
       "      <td>53000.0</td>\n",
       "      <td>Yes</td>\n",
       "      <td>5</td>\n",
       "      <td>Missouri</td>\n",
       "    </tr>\n",
       "    <tr>\n",
       "      <th>4</th>\n",
       "      <td>M</td>\n",
       "      <td>58</td>\n",
       "      <td>2eeac8d8feae4a8cad5a6af0499a211d</td>\n",
       "      <td>20171111</td>\n",
       "      <td>51000.0</td>\n",
       "      <td>Yes</td>\n",
       "      <td>5</td>\n",
       "      <td>South Dakota</td>\n",
       "    </tr>\n",
       "  </tbody>\n",
       "</table>\n",
       "</div>"
      ],
      "text/plain": [
       "  gender  age                                id  \\\n",
       "0      F   55  0610b486422d4921ae7d2bf64640c50b   \n",
       "1      F   75  78afa995795e4d85b5d9ceeca43f5fef   \n",
       "2      M   68  e2127556f4f64592b11af22de27a7932   \n",
       "3      M   65  389bc3fa690240e798340f5a15918d5c   \n",
       "4      M   58  2eeac8d8feae4a8cad5a6af0499a211d   \n",
       "\n",
       "   became_member_on (year month day)    income ever_married  kids  \\\n",
       "0                           20170715  112000.0           No     3   \n",
       "1                           20170509  100000.0          Yes     0   \n",
       "2                           20180426   70000.0          Yes     3   \n",
       "3                           20180209   53000.0          Yes     5   \n",
       "4                           20171111   51000.0          Yes     5   \n",
       "\n",
       "     home_state  \n",
       "0  North Dakota  \n",
       "1       Florida  \n",
       "2       Florida  \n",
       "3      Missouri  \n",
       "4  South Dakota  "
      ]
     },
     "execution_count": 12,
     "metadata": {},
     "output_type": "execute_result"
    }
   ],
   "source": [
    "df3.head()"
   ]
  },
  {
   "cell_type": "code",
   "execution_count": 13,
   "id": "1e552fc1",
   "metadata": {},
   "outputs": [],
   "source": [
    "df4.rename(columns={\"customer\": \"id\"}, inplace=True)"
   ]
  },
  {
   "cell_type": "code",
   "execution_count": 14,
   "id": "04eb1337",
   "metadata": {},
   "outputs": [],
   "source": [
    "df = pd.merge(df3, df4, on=\"id\")"
   ]
  },
  {
   "cell_type": "code",
   "execution_count": 15,
   "id": "0de0c80b",
   "metadata": {},
   "outputs": [
    {
     "name": "stdout",
     "output_type": "stream",
     "text": [
      "<class 'pandas.core.frame.DataFrame'>\n",
      "Int64Index: 116361 entries, 0 to 116360\n",
      "Data columns (total 16 columns):\n",
      " #   Column                             Non-Null Count   Dtype  \n",
      "---  ------                             --------------   -----  \n",
      " 0   gender                             116361 non-null  object \n",
      " 1   age                                116361 non-null  int64  \n",
      " 2   id                                 116361 non-null  object \n",
      " 3   became_member_on (year month day)  116361 non-null  int64  \n",
      " 4   income                             116361 non-null  float64\n",
      " 5   ever_married                       116361 non-null  object \n",
      " 6   kids                               116361 non-null  int64  \n",
      " 7   home_state                         116361 non-null  object \n",
      " 8   event                              116361 non-null  object \n",
      " 9   event_info                         116361 non-null  object \n",
      " 10  time                               116361 non-null  int64  \n",
      " 11  reward                             116361 non-null  int64  \n",
      " 12  channels                           116361 non-null  object \n",
      " 13  required_amount                    116361 non-null  int64  \n",
      " 14  duration (days)                    116361 non-null  int64  \n",
      " 15  offer_type                         116361 non-null  object \n",
      "dtypes: float64(1), int64(7), object(8)\n",
      "memory usage: 15.1+ MB\n"
     ]
    }
   ],
   "source": [
    "df.info()"
   ]
  },
  {
   "cell_type": "code",
   "execution_count": 16,
   "id": "967e5f5b",
   "metadata": {},
   "outputs": [
    {
     "data": {
      "text/html": [
       "<div>\n",
       "<style scoped>\n",
       "    .dataframe tbody tr th:only-of-type {\n",
       "        vertical-align: middle;\n",
       "    }\n",
       "\n",
       "    .dataframe tbody tr th {\n",
       "        vertical-align: top;\n",
       "    }\n",
       "\n",
       "    .dataframe thead th {\n",
       "        text-align: right;\n",
       "    }\n",
       "</style>\n",
       "<table border=\"1\" class=\"dataframe\">\n",
       "  <thead>\n",
       "    <tr style=\"text-align: right;\">\n",
       "      <th></th>\n",
       "      <th>gender</th>\n",
       "      <th>age</th>\n",
       "      <th>id</th>\n",
       "      <th>became_member_on (year month day)</th>\n",
       "      <th>income</th>\n",
       "      <th>ever_married</th>\n",
       "      <th>kids</th>\n",
       "      <th>home_state</th>\n",
       "      <th>event</th>\n",
       "      <th>event_info</th>\n",
       "      <th>time</th>\n",
       "      <th>reward</th>\n",
       "      <th>channels</th>\n",
       "      <th>required_amount</th>\n",
       "      <th>duration (days)</th>\n",
       "      <th>offer_type</th>\n",
       "    </tr>\n",
       "  </thead>\n",
       "  <tbody>\n",
       "    <tr>\n",
       "      <th>0</th>\n",
       "      <td>F</td>\n",
       "      <td>55</td>\n",
       "      <td>0610b486422d4921ae7d2bf64640c50b</td>\n",
       "      <td>20170715</td>\n",
       "      <td>112000.0</td>\n",
       "      <td>No</td>\n",
       "      <td>3</td>\n",
       "      <td>North Dakota</td>\n",
       "      <td>offer received</td>\n",
       "      <td>{'offer id': '9b98b8c7a33c4b65b9aebfe6a799e6d9'}</td>\n",
       "      <td>408</td>\n",
       "      <td>5</td>\n",
       "      <td>['web', 'email', 'mobile']</td>\n",
       "      <td>5</td>\n",
       "      <td>7</td>\n",
       "      <td>bogo</td>\n",
       "    </tr>\n",
       "    <tr>\n",
       "      <th>1</th>\n",
       "      <td>F</td>\n",
       "      <td>55</td>\n",
       "      <td>0610b486422d4921ae7d2bf64640c50b</td>\n",
       "      <td>20170715</td>\n",
       "      <td>112000.0</td>\n",
       "      <td>No</td>\n",
       "      <td>3</td>\n",
       "      <td>North Dakota</td>\n",
       "      <td>offer received</td>\n",
       "      <td>{'offer id': '3f207df678b143eea3cee63160fa8bed'}</td>\n",
       "      <td>504</td>\n",
       "      <td>0</td>\n",
       "      <td>['web', 'email', 'mobile']</td>\n",
       "      <td>0</td>\n",
       "      <td>4</td>\n",
       "      <td>informational</td>\n",
       "    </tr>\n",
       "    <tr>\n",
       "      <th>2</th>\n",
       "      <td>F</td>\n",
       "      <td>75</td>\n",
       "      <td>78afa995795e4d85b5d9ceeca43f5fef</td>\n",
       "      <td>20170509</td>\n",
       "      <td>100000.0</td>\n",
       "      <td>Yes</td>\n",
       "      <td>0</td>\n",
       "      <td>Florida</td>\n",
       "      <td>offer received</td>\n",
       "      <td>{'offer id': '9b98b8c7a33c4b65b9aebfe6a799e6d9'}</td>\n",
       "      <td>0</td>\n",
       "      <td>5</td>\n",
       "      <td>['web', 'email', 'mobile']</td>\n",
       "      <td>5</td>\n",
       "      <td>7</td>\n",
       "      <td>bogo</td>\n",
       "    </tr>\n",
       "    <tr>\n",
       "      <th>3</th>\n",
       "      <td>F</td>\n",
       "      <td>75</td>\n",
       "      <td>78afa995795e4d85b5d9ceeca43f5fef</td>\n",
       "      <td>20170509</td>\n",
       "      <td>100000.0</td>\n",
       "      <td>Yes</td>\n",
       "      <td>0</td>\n",
       "      <td>Florida</td>\n",
       "      <td>offer viewed</td>\n",
       "      <td>{'offer id': '9b98b8c7a33c4b65b9aebfe6a799e6d9'}</td>\n",
       "      <td>6</td>\n",
       "      <td>5</td>\n",
       "      <td>['web', 'email', 'mobile']</td>\n",
       "      <td>5</td>\n",
       "      <td>7</td>\n",
       "      <td>bogo</td>\n",
       "    </tr>\n",
       "    <tr>\n",
       "      <th>4</th>\n",
       "      <td>F</td>\n",
       "      <td>75</td>\n",
       "      <td>78afa995795e4d85b5d9ceeca43f5fef</td>\n",
       "      <td>20170509</td>\n",
       "      <td>100000.0</td>\n",
       "      <td>Yes</td>\n",
       "      <td>0</td>\n",
       "      <td>Florida</td>\n",
       "      <td>offer received</td>\n",
       "      <td>{'offer id': 'f19421c1d4aa40978ebb69ca19b0e20d'}</td>\n",
       "      <td>504</td>\n",
       "      <td>5</td>\n",
       "      <td>['web', 'email', 'mobile', 'social']</td>\n",
       "      <td>5</td>\n",
       "      <td>5</td>\n",
       "      <td>bogo</td>\n",
       "    </tr>\n",
       "  </tbody>\n",
       "</table>\n",
       "</div>"
      ],
      "text/plain": [
       "  gender  age                                id  \\\n",
       "0      F   55  0610b486422d4921ae7d2bf64640c50b   \n",
       "1      F   55  0610b486422d4921ae7d2bf64640c50b   \n",
       "2      F   75  78afa995795e4d85b5d9ceeca43f5fef   \n",
       "3      F   75  78afa995795e4d85b5d9ceeca43f5fef   \n",
       "4      F   75  78afa995795e4d85b5d9ceeca43f5fef   \n",
       "\n",
       "   became_member_on (year month day)    income ever_married  kids  \\\n",
       "0                           20170715  112000.0           No     3   \n",
       "1                           20170715  112000.0           No     3   \n",
       "2                           20170509  100000.0          Yes     0   \n",
       "3                           20170509  100000.0          Yes     0   \n",
       "4                           20170509  100000.0          Yes     0   \n",
       "\n",
       "     home_state           event  \\\n",
       "0  North Dakota  offer received   \n",
       "1  North Dakota  offer received   \n",
       "2       Florida  offer received   \n",
       "3       Florida    offer viewed   \n",
       "4       Florida  offer received   \n",
       "\n",
       "                                         event_info  time  reward  \\\n",
       "0  {'offer id': '9b98b8c7a33c4b65b9aebfe6a799e6d9'}   408       5   \n",
       "1  {'offer id': '3f207df678b143eea3cee63160fa8bed'}   504       0   \n",
       "2  {'offer id': '9b98b8c7a33c4b65b9aebfe6a799e6d9'}     0       5   \n",
       "3  {'offer id': '9b98b8c7a33c4b65b9aebfe6a799e6d9'}     6       5   \n",
       "4  {'offer id': 'f19421c1d4aa40978ebb69ca19b0e20d'}   504       5   \n",
       "\n",
       "                               channels  required_amount  duration (days)  \\\n",
       "0            ['web', 'email', 'mobile']                5                7   \n",
       "1            ['web', 'email', 'mobile']                0                4   \n",
       "2            ['web', 'email', 'mobile']                5                7   \n",
       "3            ['web', 'email', 'mobile']                5                7   \n",
       "4  ['web', 'email', 'mobile', 'social']                5                5   \n",
       "\n",
       "      offer_type  \n",
       "0           bogo  \n",
       "1  informational  \n",
       "2           bogo  \n",
       "3           bogo  \n",
       "4           bogo  "
      ]
     },
     "execution_count": 16,
     "metadata": {},
     "output_type": "execute_result"
    }
   ],
   "source": [
    "df.head()"
   ]
  },
  {
   "cell_type": "code",
   "execution_count": 17,
   "id": "9c0f60ff",
   "metadata": {},
   "outputs": [
    {
     "name": "stdout",
     "output_type": "stream",
     "text": [
      "71236 0.6121982451164909\n"
     ]
    }
   ],
   "source": [
    "count = 0\n",
    "for i in range(len(df[\"reward\"])):\n",
    "    if df[\"reward\"][i] == df[\"required_amount\"][i]:\n",
    "        count += 1\n",
    "print(count, str(count/len(df[\"reward\"])))"
   ]
  },
  {
   "cell_type": "code",
   "execution_count": 18,
   "id": "18d4a696",
   "metadata": {},
   "outputs": [
    {
     "data": {
      "text/plain": [
       "3"
      ]
     },
     "execution_count": 18,
     "metadata": {},
     "output_type": "execute_result"
    }
   ],
   "source": [
    "len(df[\"offer_type\"].unique())"
   ]
  },
  {
   "cell_type": "code",
   "execution_count": 19,
   "id": "1a3cfb55",
   "metadata": {},
   "outputs": [
    {
     "data": {
      "text/plain": [
       "<AxesSubplot:xlabel='age', ylabel='income'>"
      ]
     },
     "execution_count": 19,
     "metadata": {},
     "output_type": "execute_result"
    },
    {
     "data": {
      "image/png": "[encoded data removed]",
      "text/plain": [
       "<Figure size 640x480 with 1 Axes>"
      ]
     },
     "metadata": {},
     "output_type": "display_data"
    }
   ],
   "source": [
    "sns.scatterplot(data=df, x=df[\"age\"], y=df[\"income\"])"
   ]
  },
  {
   "cell_type": "code",
   "execution_count": 20,
   "id": "1706f10e",
   "metadata": {},
   "outputs": [],
   "source": [
    "def max_income_on_age(a):\n",
    "    list1 = []\n",
    "    for i in range(len(df[\"age\"])):\n",
    "        if df[\"age\"][i] == a:\n",
    "            list1.append(df[\"income\"][i])\n",
    "    print(max(list1))"
   ]
  },
  {
   "cell_type": "code",
   "execution_count": 21,
   "id": "41d5af00",
   "metadata": {},
   "outputs": [],
   "source": [
    "#max_income_on_age(20)"
   ]
  },
  {
   "cell_type": "code",
   "execution_count": 22,
   "id": "1501cd0b",
   "metadata": {},
   "outputs": [
    {
     "data": {
      "text/plain": [
       "\"\\n\\n# Assuming df is your DataFrame with the dataset\\nX = df[['gender', 'age', 'income']]\\nX = pd.get_dummies(X, columns=['gender'])  # Convert categorical to numerical\\n\\nscaler = StandardScaler()\\nX_scaled = scaler.fit_transform(X)\\n\\ndbscan = DBSCAN(eps=1, min_samples=10)  # Set the parameters according to your data\\nclusters = dbscan.fit_predict(X_scaled)\\n\\n# Add the cluster labels back to your DataFrame\\ndf['cluster'] = clusters\\n\""
      ]
     },
     "execution_count": 22,
     "metadata": {},
     "output_type": "execute_result"
    }
   ],
   "source": [
    "from sklearn.cluster import DBSCAN\n",
    "from sklearn.preprocessing import StandardScaler\n",
    "\"\"\"\n",
    "\n",
    "# Assuming df is your DataFrame with the dataset\n",
    "X = df[['gender', 'age', 'income']]\n",
    "X = pd.get_dummies(X, columns=['gender'])  # Convert categorical to numerical\n",
    "\n",
    "scaler = StandardScaler()\n",
    "X_scaled = scaler.fit_transform(X)\n",
    "\n",
    "dbscan = DBSCAN(eps=1, min_samples=10)  # Set the parameters according to your data\n",
    "clusters = dbscan.fit_predict(X_scaled)\n",
    "\n",
    "# Add the cluster labels back to your DataFrame\n",
    "df['cluster'] = clusters\n",
    "\"\"\"\n"
   ]
  },
  {
   "cell_type": "code",
   "execution_count": 23,
   "id": "18d33e1f",
   "metadata": {},
   "outputs": [
    {
     "data": {
      "text/plain": [
       "'\\nlen(df[\"cluster\"].unique())\\n'"
      ]
     },
     "execution_count": 23,
     "metadata": {},
     "output_type": "execute_result"
    }
   ],
   "source": [
    "\"\"\"\n",
    "len(df[\"cluster\"].unique())\n",
    "\"\"\"\n"
   ]
  },
  {
   "cell_type": "code",
   "execution_count": 24,
   "id": "5cd3fc9a",
   "metadata": {},
   "outputs": [
    {
     "data": {
      "text/plain": [
       "'\\n\\n# Calculate the number of people in each cluster\\ncluster_sizes = df[\\'cluster\\'].value_counts()\\n\\n# Print the cluster number and the number of people in each cluster\\nfor cluster, size in cluster_sizes.items():\\n    print(f\"Cluster {cluster}: {size} people\")\\n'"
      ]
     },
     "execution_count": 24,
     "metadata": {},
     "output_type": "execute_result"
    }
   ],
   "source": [
    "\"\"\"\n",
    "\n",
    "# Calculate the number of people in each cluster\n",
    "cluster_sizes = df['cluster'].value_counts()\n",
    "\n",
    "# Print the cluster number and the number of people in each cluster\n",
    "for cluster, size in cluster_sizes.items():\n",
    "    print(f\"Cluster {cluster}: {size} people\")\n",
    "\"\"\"\n"
   ]
  },
  {
   "cell_type": "code",
   "execution_count": 25,
   "id": "5e67a422",
   "metadata": {},
   "outputs": [
    {
     "data": {
      "text/plain": [
       "\"\\n# Assuming X_scaled is your scaled dataset\\npca = PCA(n_components=2)\\nX_pca = pca.fit_transform(X_scaled)\\n\\n# Plotting the clusters\\nplt.figure(figsize=(8, 6))\\nplt.scatter(X_pca[:, 0], X_pca[:, 1], c=clusters, cmap='viridis')\\nplt.colorbar(label='Cluster')\\nplt.xlabel('Principal Component 1')\\nplt.ylabel('Principal Component 2')\\nplt.title('DBSCAN Clustering')\\nplt.show()\\n\""
      ]
     },
     "execution_count": 25,
     "metadata": {},
     "output_type": "execute_result"
    }
   ],
   "source": [
    "from sklearn.decomposition import PCA\n",
    "import matplotlib.pyplot as plt\n",
    "\"\"\"\n",
    "# Assuming X_scaled is your scaled dataset\n",
    "pca = PCA(n_components=2)\n",
    "X_pca = pca.fit_transform(X_scaled)\n",
    "\n",
    "# Plotting the clusters\n",
    "plt.figure(figsize=(8, 6))\n",
    "plt.scatter(X_pca[:, 0], X_pca[:, 1], c=clusters, cmap='viridis')\n",
    "plt.colorbar(label='Cluster')\n",
    "plt.xlabel('Principal Component 1')\n",
    "plt.ylabel('Principal Component 2')\n",
    "plt.title('DBSCAN Clustering')\n",
    "plt.show()\n",
    "\"\"\"\n"
   ]
  },
  {
   "cell_type": "code",
   "execution_count": 26,
   "id": "000db975",
   "metadata": {},
   "outputs": [
    {
     "data": {
      "text/plain": [
       "'\\n\\n# Calculate the mean values of each feature in each cluster\\ncluster_means = df.groupby(\\'cluster\\').mean()\\n\\n# Print the mean values of each feature in each cluster\\nfor cluster in cluster_means.index:\\n    print(f\"Cluster {cluster}:\")\\n    print(cluster_means.loc[cluster])\\n    print()\\n'"
      ]
     },
     "execution_count": 26,
     "metadata": {},
     "output_type": "execute_result"
    }
   ],
   "source": [
    "\"\"\"\n",
    "\n",
    "# Calculate the mean values of each feature in each cluster\n",
    "cluster_means = df.groupby('cluster').mean()\n",
    "\n",
    "# Print the mean values of each feature in each cluster\n",
    "for cluster in cluster_means.index:\n",
    "    print(f\"Cluster {cluster}:\")\n",
    "    print(cluster_means.loc[cluster])\n",
    "    print()\n",
    "\"\"\"\n"
   ]
  },
  {
   "cell_type": "code",
   "execution_count": 27,
   "id": "6108ba55",
   "metadata": {},
   "outputs": [],
   "source": [
    "# Assuming df is your DataFrame with the dataset\n",
    "X = df3[['gender', 'age', 'income']]\n",
    "X = pd.get_dummies(X, columns=['gender'])  # Convert categorical to numerical\n",
    "\n",
    "scaler = StandardScaler()\n",
    "X_scaled = scaler.fit_transform(X)\n",
    "\n",
    "dbscan = DBSCAN(eps=1, min_samples=10)  # Set the parameters according to your data\n",
    "clusters = dbscan.fit_predict(X_scaled)\n",
    "\n",
    "# Add the cluster labels back to your DataFrame\n",
    "df3['cluster'] = clusters"
   ]
  },
  {
   "cell_type": "code",
   "execution_count": 28,
   "id": "ae3abebf",
   "metadata": {},
   "outputs": [
    {
     "name": "stdout",
     "output_type": "stream",
     "text": [
      "Cluster 1: 8484 people\n",
      "Cluster 0: 6129 people\n",
      "Cluster 2: 212 people\n"
     ]
    }
   ],
   "source": [
    "# Calculate the number of people in each cluster\n",
    "cluster_sizes = df3['cluster'].value_counts()\n",
    "\n",
    "# Print the cluster number and the number of people in each cluster\n",
    "for cluster, size in cluster_sizes.items():\n",
    "    print(f\"Cluster {cluster}: {size} people\")\n"
   ]
  },
  {
   "cell_type": "code",
   "execution_count": 29,
   "id": "22438070",
   "metadata": {},
   "outputs": [
    {
     "data": {
      "image/png": "[encoded data removed]",
      "text/plain": [
       "<Figure size 800x600 with 2 Axes>"
      ]
     },
     "metadata": {},
     "output_type": "display_data"
    }
   ],
   "source": [
    "# Assuming X_scaled is your scaled dataset\n",
    "pca = PCA(n_components=2)\n",
    "X_pca = pca.fit_transform(X_scaled)\n",
    "\n",
    "# Plotting the clusters\n",
    "plt.figure(figsize=(8, 6))\n",
    "plt.scatter(X_pca[:, 0], X_pca[:, 1], c=clusters, cmap='viridis')\n",
    "plt.colorbar(label='Cluster')\n",
    "plt.xlabel('Principal Component 1')\n",
    "plt.ylabel('Principal Component 2')\n",
    "plt.title('DBSCAN Clustering')\n",
    "plt.show()\n"
   ]
  },
  {
   "cell_type": "code",
   "execution_count": 30,
   "id": "8a3110a2",
   "metadata": {},
   "outputs": [
    {
     "name": "stdout",
     "output_type": "stream",
     "text": [
      "Cluster 0:\n",
      "age                                  5.754495e+01\n",
      "became_member_on (year month day)    2.016704e+07\n",
      "income                               7.130641e+04\n",
      "kids                                 1.712841e+00\n",
      "Name: 0, dtype: float64\n",
      "\n",
      "Cluster 1:\n",
      "age                                  5.211669e+01\n",
      "became_member_on (year month day)    2.016675e+07\n",
      "income                               6.119460e+04\n",
      "kids                                 1.676332e+00\n",
      "Name: 1, dtype: float64\n",
      "\n",
      "Cluster 2:\n",
      "age                                  5.440094e+01\n",
      "became_member_on (year month day)    2.016790e+07\n",
      "income                               6.328774e+04\n",
      "kids                                 1.632075e+00\n",
      "Name: 2, dtype: float64\n",
      "\n"
     ]
    }
   ],
   "source": [
    "# Calculate the mean values of each feature in each cluster\n",
    "cluster_means = df3.groupby('cluster').mean()\n",
    "\n",
    "# Print the mean values of each feature in each cluster\n",
    "for cluster in cluster_means.index:\n",
    "    print(f\"Cluster {cluster}:\")\n",
    "    print(cluster_means.loc[cluster])\n",
    "    print()"
   ]
  },
  {
   "cell_type": "code",
   "execution_count": null,
   "id": "1d2bf323",
   "metadata": {},
   "outputs": [],
   "source": []
  }
 ],
 "metadata": {
  "kernelspec": {
   "display_name": "Python 3 (ipykernel)",
   "language": "python",
   "name": "python3"
  },
  "language_info": {
   "codemirror_mode": {
    "name": "ipython",
    "version": 3
   },
   "file_extension": ".py",
   "mimetype": "text/x-python",
   "name": "python",
   "nbconvert_exporter": "python",
   "pygments_lexer": "ipython3",
   "version": "3.9.13"
  }
 },
 "nbformat": 4,
 "nbformat_minor": 5
}
